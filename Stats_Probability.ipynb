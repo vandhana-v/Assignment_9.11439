{
 "cells": [
  {
   "cell_type": "code",
   "execution_count": 1,
   "metadata": {},
   "outputs": [],
   "source": [
    "import pandas as pd\n",
    "import math"
   ]
  },
  {
   "cell_type": "code",
   "execution_count": 10,
   "metadata": {},
   "outputs": [
    {
     "name": "stdout",
     "output_type": "stream",
     "text": [
      "Standard deviation:367.990036\n"
     ]
    }
   ],
   "source": [
    "'''Task 1:\n",
    "1. You survey households in your area to find the average rent they are paying. Find the\n",
    "standard deviation from the following data:\n",
    "$1550, $1700, $900, $850, $1000, $950.'''\n",
    "\n",
    "\n",
    "rent = [1550,1700,900,850,1000,950]\n",
    "rent_df = pd.DataFrame(rent)\n",
    "print('Standard deviation:%f'%rent_df.std())"
   ]
  },
  {
   "cell_type": "code",
   "execution_count": 11,
   "metadata": {},
   "outputs": [
    {
     "name": "stdout",
     "output_type": "stream",
     "text": [
      "Variance:6219.900000\n"
     ]
    }
   ],
   "source": [
    "'''2. Find the variance for the following set of data representing trees in California (heights in\n",
    "feet):\n",
    "3, 21, 98, 203, 17, 9'''\n",
    "\n",
    "height = [3,21,98,203,17,9]\n",
    "height_df = pd.DataFrame(height)\n",
    "\n",
    "print('Variance:%f'%height_df.var())\n"
   ]
  },
  {
   "cell_type": "code",
   "execution_count": 20,
   "metadata": {},
   "outputs": [
    {
     "name": "stdout",
     "output_type": "stream",
     "text": [
      "Probability distribution for students failing in 0 subjects P(X=0):0.800000\n",
      "Probability distribution for students failing in 1 subjects P(X=1):0.100000\n",
      "Probability distribution for students failing in 2 subjects P(X=2):0.070000\n",
      "Probability distribution for students failing in 3 subjects P(X=3):0.030000\n",
      "Total probability: 1.000000\n"
     ]
    }
   ],
   "source": [
    "'''3. In a class on 100 students, 80 students passed in all subjects, 10 failed in one subject, 7 failed\n",
    "in two subjects and 3 failed in three subjects. Find the probability distribution of the variable for\n",
    "number of subjects a student from the given class has failed in.'''\n",
    "\n",
    "\n",
    "#P(X) = Number of favourabl outcomes / Total number of outcomes\n",
    "#Total number of outcomes = 100\n",
    "\n",
    "passed_all_sub = 80\n",
    "failed_one_sub = 10\n",
    "failed_two_sub = 7\n",
    "failed_three_sub = 3\n",
    "total_outcomes = 100\n",
    "\n",
    "#Probability distribution for students failing in 0 subjects P(X=0)\n",
    "zero_sub = passed_all_sub / total_outcomes\n",
    "\n",
    "#Probability distribution for students failing in 1 subjects P(X=1)\n",
    "one_sub = failed_one_sub / total_outcomes\n",
    "\n",
    "#Probability distribution for students failing in 2 subjects P(X=2)\n",
    "two_sub = failed_two_sub / total_outcomes\n",
    "\n",
    "#Probability distribution for students failing in 3 subjects P(X=3)\n",
    "three_sub = failed_three_sub / total_outcomes\n",
    "\n",
    "\n",
    "print('Probability distribution for students failing in 0 subjects P(X=0):%f'%zero_sub)\n",
    "print('Probability distribution for students failing in 1 subjects P(X=1):%f'%one_sub)\n",
    "print('Probability distribution for students failing in 2 subjects P(X=2):%f'%two_sub)\n",
    "print('Probability distribution for students failing in 3 subjects P(X=3):%f'%three_sub)\n",
    "\n",
    "\n",
    "print('Total probability: %f'% (zero_sub+one_sub+two_sub+three_sub))"
   ]
  },
  {
   "cell_type": "code",
   "execution_count": 19,
   "metadata": {},
   "outputs": [
    {
     "name": "stdout",
     "output_type": "stream",
     "text": [
      "Probability of giving a right answer (p) : 1/4\n",
      "Probability of giving a wrong answer (1-p) : 3/4\n",
      "The probability that a person undertaking that test has answered exactly 5 questions wrong P(X=5): 0.0000034 \n"
     ]
    }
   ],
   "source": [
    "'''Task 2:\n",
    "1. A test is conducted which is consisting of 20 MCQs (multiple choices questions) with every\n",
    "MCQ having its four options out of which only one is correct. Determine the probability that a\n",
    "person undertaking that test has answered exactly 5 questions wrong.'''\n",
    "\n",
    "#This is a Binomial probability distribution\n",
    "n = 20 #trials\n",
    "k = 5\n",
    "#n-k : 20 - 5 = 15\n",
    "\n",
    "#Probability of giving a right answer (p)\n",
    "p = 1/4 #success\n",
    "print('Probability of giving a right answer (p) : 1/4')\n",
    "\n",
    "#Probability of giving a wrong answer (1-p) : 1-p = 1 - 1/4  #failure \n",
    "print('Probability of giving a wrong answer (1-p) : 3/4') \n",
    "    \n",
    "#P (exactly 5 out of 20 answers incorrect) = 20 C 5 * (1-p)^5 * (p)^15\n",
    "\n",
    "#P(X=5)\n",
    "X  = (math.factorial(20)) / (math.factorial(15) * math.factorial(5))  * (3/4)**5 * (1/4)**15\n",
    "     \n",
    "print('The probability that a person undertaking that test has answered exactly 5 questions wrong P(X=5): %.7f '%X)\n"
   ]
  },
  {
   "cell_type": "code",
   "execution_count": 18,
   "metadata": {},
   "outputs": [
    {
     "name": "stdout",
     "output_type": "stream",
     "text": [
      "Probability of getting D (p) : 1/5\n",
      "Probability of not getting D (1-p) : 4/5\n",
      "The probability of getting a “D” exactly 5 times P(X=5): 0.0295312 \n"
     ]
    }
   ],
   "source": [
    "'''2. A die marked A to E is rolled 50 times. Find the probability of getting a “D” exactly 5 times.'''\n",
    "\n",
    "\n",
    "#This is a Binomial probability distribution\n",
    "n = 50 #trials\n",
    "k = 5\n",
    "#n-k : 50 - 5 = 45\n",
    "\n",
    "#Probability of getting 'D' (p)\n",
    "p = 1/5 #success\n",
    "print('Probability of getting D (p) : 1/5')\n",
    "\n",
    "#Probability of not getting 'D' (1-p) : 1-p = 1 - 1/5  #failure \n",
    "print('Probability of not getting D (1-p) : 4/5') \n",
    "    \n",
    "#P (getting D exactly 5 times) = 50 C 5 * (1-p)^5 * (p)^45\n",
    "\n",
    "#P(X=5)\n",
    "X  = (math.factorial(50)) / (math.factorial(5) * math.factorial(45))  * (1/5)**5 * (4/5)**45\n",
    "     \n",
    "print('The probability of getting a “D” exactly 5 times P(X=5): %.7f '%X)\n"
   ]
  },
  {
   "cell_type": "code",
   "execution_count": 17,
   "metadata": {},
   "outputs": [
    {
     "name": "stdout",
     "output_type": "stream",
     "text": [
      "Probability of drawing Red and Red: 0.133333\n",
      "Probability of drawing Red and Black: 0.266667\n",
      "Probability of drawing Black and Red: 0.266667\n",
      "Probability of drawing Black and Black: 0.333333\n",
      "Total probability:1.000000\n"
     ]
    }
   ],
   "source": [
    "'''3. Two balls are drawn at random in succession without replacement from an urn containing 4\n",
    "red balls and 6 black balls.\n",
    "Find the probabilities of all the possible outcomes.'''\n",
    "#Sample space = 4 red balls + 6 black balls = 10\n",
    "sample_space = 10\n",
    "\n",
    "#The possible outcomes are\n",
    " # 1. Red, Red\n",
    " # 2. Red, Black\n",
    " # 3. Black, Red\n",
    " # 4. Black, Black\n",
    "\n",
    "#probabilities of all the possible outcomes\n",
    "#Since balls are drawn without replacement, this is a dependent event\n",
    "red_red = (4/10) * (3/9)\n",
    "red_black = (4/10) * (6/9)\n",
    "black_red = (6/10) * (4/9)\n",
    "black_black = (6/10) * (5/9)\n",
    "\n",
    "#The Probablities of all possible outcomes\n",
    "print('Probability of drawing Red and Red: %f'%red_red)\n",
    "print('Probability of drawing Red and Black: %f'%red_black)\n",
    "print('Probability of drawing Black and Red: %f'%black_red)\n",
    "print('Probability of drawing Black and Black: %f'%black_black)\n",
    "\n",
    "print('Total probability:%f' %(red_red+red_black+black_red+black_black))"
   ]
  },
  {
   "cell_type": "code",
   "execution_count": null,
   "metadata": {},
   "outputs": [],
   "source": []
  },
  {
   "cell_type": "code",
   "execution_count": null,
   "metadata": {},
   "outputs": [],
   "source": []
  },
  {
   "cell_type": "code",
   "execution_count": null,
   "metadata": {},
   "outputs": [],
   "source": []
  }
 ],
 "metadata": {
  "kernelspec": {
   "display_name": "Python 3",
   "language": "python",
   "name": "python3"
  },
  "language_info": {
   "codemirror_mode": {
    "name": "ipython",
    "version": 3
   },
   "file_extension": ".py",
   "mimetype": "text/x-python",
   "name": "python",
   "nbconvert_exporter": "python",
   "pygments_lexer": "ipython3",
   "version": "3.7.0"
  }
 },
 "nbformat": 4,
 "nbformat_minor": 2
}
